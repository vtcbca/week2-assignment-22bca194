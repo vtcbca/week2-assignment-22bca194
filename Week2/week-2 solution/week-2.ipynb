{
 "cells": [
  {
   "cell_type": "code",
   "execution_count": 1,
   "id": "af532b20",
   "metadata": {},
   "outputs": [],
   "source": [
    "import sqlite3"
   ]
  },
  {
   "cell_type": "code",
   "execution_count": 7,
   "id": "49ab05e3",
   "metadata": {},
   "outputs": [],
   "source": [
    "con = sqlite3.connect(\"stud.db\")"
   ]
  },
  {
   "cell_type": "code",
   "execution_count": 8,
   "id": "a72833ac",
   "metadata": {},
   "outputs": [],
   "source": [
    "cur=con.cursor()"
   ]
  },
  {
   "cell_type": "code",
   "execution_count": 9,
   "id": "fe0be2b6",
   "metadata": {},
   "outputs": [],
   "source": [
    "q=\"create table if not exists stud(sid int primary key,name text)\""
   ]
  },
  {
   "cell_type": "code",
   "execution_count": 10,
   "id": "6fc6ef20",
   "metadata": {},
   "outputs": [
    {
     "data": {
      "text/plain": [
       "<sqlite3.Cursor at 0x2587b721140>"
      ]
     },
     "execution_count": 10,
     "metadata": {},
     "output_type": "execute_result"
    }
   ],
   "source": [
    "cur.execute(q)"
   ]
  },
  {
   "cell_type": "code",
   "execution_count": 33,
   "id": "6cac296f",
   "metadata": {},
   "outputs": [],
   "source": [
    "con.commit()"
   ]
  },
  {
   "cell_type": "code",
   "execution_count": 12,
   "id": "2c299940",
   "metadata": {},
   "outputs": [],
   "source": [
    "q2 = \"create table if not exists stud_details(sid int primary key,city text not null,mobileno number not null,FOREIGN KEY (sid) references stud(sid))\""
   ]
  },
  {
   "cell_type": "code",
   "execution_count": 13,
   "id": "0a9bcd2e",
   "metadata": {},
   "outputs": [
    {
     "data": {
      "text/plain": [
       "<sqlite3.Cursor at 0x2587b721140>"
      ]
     },
     "execution_count": 13,
     "metadata": {},
     "output_type": "execute_result"
    }
   ],
   "source": [
    "cur.execute(q2)"
   ]
  },
  {
   "cell_type": "code",
   "execution_count": 51,
   "id": "dfa677f5",
   "metadata": {},
   "outputs": [],
   "source": [
    "con.commit()"
   ]
  },
  {
   "cell_type": "code",
   "execution_count": 52,
   "id": "4b65d453",
   "metadata": {
    "scrolled": true
   },
   "outputs": [
    {
     "name": "stdout",
     "output_type": "stream",
     "text": [
      "Enter student id:1\n",
      "Enter student name: om\n",
      "Enter student id:2\n",
      "Enter student name: sai\n",
      "Enter student id:3\n",
      "Enter student name: ram\n",
      "Enter student id:4\n",
      "Enter student name: radha\n",
      "Enter student id:5\n",
      "Enter student name: krishna\n",
      "Enter student id:6\n",
      "Enter student name: shiv\n",
      "Enter student id:7\n",
      "Enter student name: kisan\n",
      "Enter student id:8\n",
      "Enter student name: gopi\n",
      "Enter student id:9\n",
      "Enter student name: krish\n",
      "Enter student id:10\n",
      "Enter student name: raj\n"
     ]
    },
    {
     "ename": "IntegrityError",
     "evalue": "UNIQUE constraint failed: stud.sid",
     "output_type": "error",
     "traceback": [
      "\u001b[1;31m---------------------------------------------------------------------------\u001b[0m",
      "\u001b[1;31mIntegrityError\u001b[0m                            Traceback (most recent call last)",
      "Cell \u001b[1;32mIn[52], line 8\u001b[0m\n\u001b[0;32m      6\u001b[0m     t\u001b[38;5;241m=\u001b[39m(sid,name)\n\u001b[0;32m      7\u001b[0m     l\u001b[38;5;241m.\u001b[39mappend(t)\n\u001b[1;32m----> 8\u001b[0m \u001b[43mcur\u001b[49m\u001b[38;5;241;43m.\u001b[39;49m\u001b[43mexecutemany\u001b[49m\u001b[43m(\u001b[49m\u001b[43mq\u001b[49m\u001b[43m,\u001b[49m\u001b[43ml\u001b[49m\u001b[43m)\u001b[49m\n\u001b[0;32m      9\u001b[0m con\u001b[38;5;241m.\u001b[39mcommit()\n",
      "\u001b[1;31mIntegrityError\u001b[0m: UNIQUE constraint failed: stud.sid"
     ]
    }
   ],
   "source": [
    "    q=\"insert into stud values(?,?)\"\n",
    "    l=[]   \n",
    "    for i in range(10):\n",
    "        sid=int(input(\"Enter student id:\"))\n",
    "        name=input(\"Enter student name: \")\n",
    "        t=(sid,name)\n",
    "        l.append(t)\n",
    "    cur.executemany(q,l)\n",
    "    con.commit()"
   ]
  },
  {
   "cell_type": "code",
   "execution_count": 36,
   "id": "fdfa161e",
   "metadata": {
    "scrolled": true
   },
   "outputs": [
    {
     "name": "stdout",
     "output_type": "stream",
     "text": [
      "Enter student id:1\n",
      "Enter student city:surat\n",
      "Enter student mobile nub:8141416152\n",
      "Enter student id:2\n",
      "Enter student city:baroda\n",
      "Enter student mobile nub:5674893490\n",
      "Enter student id:3\n",
      "Enter student city:surat\n",
      "Enter student mobile nub:7865453256\n",
      "Enter student id:4\n",
      "Enter student city:bardoli\n",
      "Enter student mobile nub:7867547890\n",
      "Enter student id:5\n",
      "Enter student city:navsari\n",
      "Enter student mobile nub:8767548901\n",
      "Enter student id:6\n",
      "Enter student city:surat\n",
      "Enter student mobile nub:7890876541\n",
      "Enter student id:7\n",
      "Enter student city:bardoli\n",
      "Enter student mobile nub:8980765643\n",
      "Enter student id:8\n",
      "Enter student city:bharuch\n",
      "Enter student mobile nub:8797239621\n",
      "Enter student id:9\n",
      "Enter student city:baroda\n",
      "Enter student mobile nub:8116165488\n",
      "Enter student id:10\n",
      "Enter student city:navsari\n",
      "Enter student mobile nub:9876569198\n"
     ]
    }
   ],
   "source": [
    "    q1=\"insert into stud_details values(?,?,?)\"\n",
    "    l=[]   \n",
    "    for i in range(10):\n",
    "        sid=int(input(\"Enter student id:\"))\n",
    "        city=input(\"Enter student city:\")\n",
    "        mobileno=int(input(\"Enter student mobile nub:\"))\n",
    "\n",
    "        t=(sid,city,mobileno)\n",
    "        l.append(t)\n",
    "    cur.executemany(q1,l)\n",
    "    con.commit()"
   ]
  },
  {
   "cell_type": "raw",
   "id": "dc697b55",
   "metadata": {},
   "source": [
    "3. Display whose student come from the Surat City."
   ]
  },
  {
   "cell_type": "code",
   "execution_count": 49,
   "id": "c4ef3882",
   "metadata": {},
   "outputs": [],
   "source": [
    "q1=\"select * from stud_details where city='surat' \""
   ]
  },
  {
   "cell_type": "code",
   "execution_count": 45,
   "id": "1b904853",
   "metadata": {},
   "outputs": [
    {
     "data": {
      "text/plain": [
       "<sqlite3.Cursor at 0x2587b721140>"
      ]
     },
     "execution_count": 45,
     "metadata": {},
     "output_type": "execute_result"
    }
   ],
   "source": [
    "cur.execute(q1)"
   ]
  },
  {
   "cell_type": "code",
   "execution_count": 46,
   "id": "0f53acb6",
   "metadata": {},
   "outputs": [
    {
     "data": {
      "text/plain": [
       "[(1, 'surat', 8141416152), (3, 'surat', 7865453256), (6, 'surat', 7890876541)]"
      ]
     },
     "execution_count": 46,
     "metadata": {},
     "output_type": "execute_result"
    }
   ],
   "source": [
    "cur.fetchall()"
   ]
  },
  {
   "cell_type": "code",
   "execution_count": 53,
   "id": "cc37cd6e",
   "metadata": {},
   "outputs": [],
   "source": [
    "con.commit()"
   ]
  },
  {
   "cell_type": "raw",
   "id": "a29b883c",
   "metadata": {},
   "source": [
    " 4.Display student details whose city name start with 'B'."
   ]
  },
  {
   "cell_type": "code",
   "execution_count": 57,
   "id": "0e19ad9b",
   "metadata": {},
   "outputs": [],
   "source": [
    "q2=\"select * from stud_details where city LIKE 'b%'\"\n"
   ]
  },
  {
   "cell_type": "code",
   "execution_count": 58,
   "id": "d0349a74",
   "metadata": {},
   "outputs": [
    {
     "data": {
      "text/plain": [
       "<sqlite3.Cursor at 0x2587b721140>"
      ]
     },
     "execution_count": 58,
     "metadata": {},
     "output_type": "execute_result"
    }
   ],
   "source": [
    "cur.execute(q2)"
   ]
  },
  {
   "cell_type": "code",
   "execution_count": 59,
   "id": "f0eff6d9",
   "metadata": {},
   "outputs": [
    {
     "data": {
      "text/plain": [
       "[(2, 'baroda', 5674893490),\n",
       " (4, 'bardoli', 7867547890),\n",
       " (7, 'bardoli', 8980765643),\n",
       " (8, 'bharuch', 8797239621),\n",
       " (9, 'baroda', 8116165488)]"
      ]
     },
     "execution_count": 59,
     "metadata": {},
     "output_type": "execute_result"
    }
   ],
   "source": [
    "cur.fetchall()"
   ]
  },
  {
   "cell_type": "raw",
   "id": "0e38e485",
   "metadata": {},
   "source": [
    " 5.Update mobileno who are coming from 'Surat'"
   ]
  },
  {
   "cell_type": "code",
   "execution_count": 70,
   "id": "ca6055a9",
   "metadata": {},
   "outputs": [],
   "source": [
    "q3=\"update stud_details set mobileno=9876569198 where city='surat'and sid=10\""
   ]
  },
  {
   "cell_type": "code",
   "execution_count": 71,
   "id": "d70ae0e8",
   "metadata": {},
   "outputs": [
    {
     "data": {
      "text/plain": [
       "<sqlite3.Cursor at 0x2587b721140>"
      ]
     },
     "execution_count": 71,
     "metadata": {},
     "output_type": "execute_result"
    }
   ],
   "source": [
    "cur.execute(q3)"
   ]
  },
  {
   "cell_type": "code",
   "execution_count": 73,
   "id": "323ba043",
   "metadata": {},
   "outputs": [],
   "source": [
    "con.commit()"
   ]
  },
  {
   "cell_type": "code",
   "execution_count": null,
   "id": "7cb48529",
   "metadata": {},
   "outputs": [],
   "source": []
  }
 ],
 "metadata": {
  "kernelspec": {
   "display_name": "Python 3 (ipykernel)",
   "language": "python",
   "name": "python3"
  },
  "language_info": {
   "codemirror_mode": {
    "name": "ipython",
    "version": 3
   },
   "file_extension": ".py",
   "mimetype": "text/x-python",
   "name": "python",
   "nbconvert_exporter": "python",
   "pygments_lexer": "ipython3",
   "version": "3.10.10"
  }
 },
 "nbformat": 4,
 "nbformat_minor": 5
}
